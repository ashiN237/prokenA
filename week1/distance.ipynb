{
 "cells": [
  {
   "cell_type": "code",
   "execution_count": 1,
   "metadata": {},
   "outputs": [],
   "source": [
    "# 必要なものをインポート\n",
    "import pandas as pd\n",
    "from scipy.spatial.distance import pdist, squareform"
   ]
  },
  {
   "cell_type": "code",
   "execution_count": null,
   "metadata": {},
   "outputs": [],
   "source": [
    "# Google Driveをマウント\n",
    "from google.colab import drive\n",
    "drive.mount('/content/drive')"
   ]
  },
  {
   "cell_type": "code",
   "execution_count": 2,
   "metadata": {},
   "outputs": [
    {
     "name": "stdout",
     "output_type": "stream",
     "text": [
      "            Height  Lifespan\n",
      "Human          170        60\n",
      "Chinpanzee     140        50\n",
      "Duck           100        10\n",
      "Eagle          120        18\n",
      "Turu           130        25\n",
      "Tuna           300        20\n",
      "Shark          400        30\n"
     ]
    }
   ],
   "source": [
    "# CSVファイルを読み込む\n",
    "base_path = '/content/drive/MyDrive/prokenA/'\n",
    "file_path = 'week1/data/animals.csv'                      # 'Appendix/youtuber.csv'または'Appendix/animals_m.csv'\n",
    "dataset = pd.read_csv(base_path+file_path, index_col=0)\n",
    "\n",
    "# データセットの確認\n",
    "print(dataset)"
   ]
  },
  {
   "cell_type": "code",
   "execution_count": 3,
   "metadata": {},
   "outputs": [],
   "source": [
    "# データ間の距離を定義する。(以下の3つから任意の距離を選択する)\n",
    "data_dist_method = \"euclidean\"     # ユークリッド距離\n",
    "# data_dist_method = \"cityblock\"     # マンハッタン距離\n",
    "# data_dist_method = \"chebyshev\"     # 最大距離"
   ]
  },
  {
   "cell_type": "code",
   "execution_count": 4,
   "metadata": {},
   "outputs": [
    {
     "name": "stdout",
     "output_type": "stream",
     "text": [
      "                 Human  Chinpanzee       Duck        Eagle        Turu  \\\n",
      "Human         0.000000   31.622777   86.023253   65.299311   53.150729   \n",
      "Chinpanzee   31.622777    0.000000   56.568542   37.735925   26.925824   \n",
      "Duck         86.023253   56.568542    0.000000   21.540659   33.541020   \n",
      "Eagle        65.299311   37.735925   21.540659    0.000000   12.206556   \n",
      "Turu         53.150729   26.925824   33.541020   12.206556    0.000000   \n",
      "Tuna        136.014705  162.788206  200.249844  180.011111  170.073514   \n",
      "Shark       231.948270  260.768096  300.665928  280.257025  270.046292   \n",
      "\n",
      "                  Tuna       Shark  \n",
      "Human       136.014705  231.948270  \n",
      "Chinpanzee  162.788206  260.768096  \n",
      "Duck        200.249844  300.665928  \n",
      "Eagle       180.011111  280.257025  \n",
      "Turu        170.073514  270.046292  \n",
      "Tuna          0.000000  100.498756  \n",
      "Shark       100.498756    0.000000  \n"
     ]
    }
   ],
   "source": [
    "# 全データ間の距離を計算する\n",
    "distance_matrix = pdist(dataset, metric=data_dist_method)\n",
    "\n",
    "# 距離行列の確認\n",
    "distance_matrix = squareform(distance_matrix)\n",
    "distance_df = pd.DataFrame(distance_matrix, index=dataset.index, columns=dataset.index)\n",
    "print(distance_df)"
   ]
  }
 ],
 "metadata": {
  "kernelspec": {
   "display_name": "Python 3",
   "language": "python",
   "name": "python3"
  },
  "language_info": {
   "codemirror_mode": {
    "name": "ipython",
    "version": 3
   },
   "file_extension": ".py",
   "mimetype": "text/x-python",
   "name": "python",
   "nbconvert_exporter": "python",
   "pygments_lexer": "ipython3",
   "version": "3.9.6"
  }
 },
 "nbformat": 4,
 "nbformat_minor": 2
}
