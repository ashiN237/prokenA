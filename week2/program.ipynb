{
 "cells": [
  {
   "cell_type": "code",
   "execution_count": 4,
   "metadata": {},
   "outputs": [],
   "source": [
    "import pandas as pd\n",
    "import numpy as np"
   ]
  },
  {
   "cell_type": "code",
   "execution_count": 5,
   "metadata": {},
   "outputs": [],
   "source": [
    "# データの読み込み\n",
    "#本番で使う文字列ファイルを読み込みオブジェクトDataに格納\n",
    "Data = pd.read_csv('./data/honban_data.csv')['sentence'].tolist()\n",
    "\n",
    "# 本番で使う減点行列を読み込む\n",
    "penalty = {}\n",
    "df = pd.read_csv('./data/honban_penalty.csv', index_col=0)\n",
    "for base in df.index:\n",
    "    for target in df.columns:\n",
    "        penalty[(base, target)] = df.loc[base, target]\n",
    "# print(penalty)"
   ]
  },
  {
   "cell_type": "markdown",
   "metadata": {},
   "source": [
    "### 穴あけ例"
   ]
  },
  {
   "cell_type": "code",
   "execution_count": 9,
   "metadata": {},
   "outputs": [
    {
     "ename": "SyntaxError",
     "evalue": "invalid syntax (1979471447.py, line 12)",
     "output_type": "error",
     "traceback": [
      "\u001b[0;36m  Cell \u001b[0;32mIn[9], line 12\u001b[0;36m\u001b[0m\n\u001b[0;31m    ///////////////////////////////////////////////\u001b[0m\n\u001b[0m    ^\u001b[0m\n\u001b[0;31mSyntaxError\u001b[0m\u001b[0;31m:\u001b[0m invalid syntax\n"
     ]
    }
   ],
   "source": [
    "## ↓↓ ここに動的計画法のアルゴリズムをプログラムすること ↓↓ ###\n",
    "# DP法による編集距離の計算\n",
    "def DP(string1, string2, S):\n",
    "    # 文字列1と文字列2の長さを取得\n",
    "    n1 = len(string1)\n",
    "    n2 = len(string2)\n",
    "    # DPテーブルを初期化\n",
    "    C = np.zeros((n1+1, n2+1))\n",
    "    # ギャップペナルティ\n",
    "    gap = 1\n",
    "    # DPテーブルを更新\n",
    "    ///////////////////////////////////////////////\n",
    "    \n",
    "    \n",
    "    # ここに動的計画法のアルゴリズムをプログラムすること\n",
    "    \n",
    "    \n",
    "    ///////////////////////////////////////////////\n",
    "\n",
    "    return C[n1,n2]\n",
    "\n",
    "### ↑↑ ################################################## ↑↑ ###\n",
    "#ヒント\n",
    "#点数をいれていく操作．経路が端まで達したらGAPを角にたどり着くまで足していく.\n",
    "#端の点数を埋めたら、経路が上・左・左上から来たとしたとき，\n",
    "#点数最小となるものを選んで減点の合計を示す行列にいれていけば良い(min関数)\n",
    "\n",
    "\n"
   ]
  },
  {
   "cell_type": "markdown",
   "metadata": {},
   "source": [
    "### 正解例"
   ]
  },
  {
   "cell_type": "code",
   "execution_count": null,
   "metadata": {},
   "outputs": [],
   "source": [
    "## ↓↓ ここに動的計画法のアルゴリズムをプログラムすること ↓↓ ###\n",
    "# DP法による編集距離の計算\n",
    "def DP(string1, string2, S):\n",
    "    # 文字列1と文字列2の長さを取得\n",
    "    n1 = len(string1)\n",
    "    n2 = len(string2)\n",
    "    # DPテーブルを初期化\n",
    "    C = np.zeros((n1+1, n2+1))\n",
    "    # ギャップペナルティ\n",
    "    gap = 1\n",
    "    \n",
    "    # DPテーブルを更新\n",
    "    for i in range(1, n1+1):\n",
    "        for j in range(1, n2+1):\n",
    "            # 角の点数を埋める\n",
    "            C[i,0] = C[i-1,0] + gap\n",
    "            C[0,j] = C[0,j-1] + gap\n",
    "            \n",
    "            # ペナルティを取得\n",
    "            penalty = S[string1[i-1], string2[j-1]]\n",
    "            \n",
    "            #点数最小となるものを選んで減点の合計を示すものを選ぶ\n",
    "            C[i,j] = min(C[i-1,j-1] + penalty, C[i-1,j] + gap, C[i,j-1] + gap)\n",
    "            \n",
    "    return C[n1,n2]\n",
    "\n"
   ]
  },
  {
   "cell_type": "code",
   "execution_count": null,
   "metadata": {},
   "outputs": [
    {
     "name": "stdout",
     "output_type": "stream",
     "text": [
      "距離行列\n",
      "       data1  data2  data3  data4\n",
      "data1   0.00   3.25   2.50   5.25\n",
      "data2   3.25   0.00   4.75   2.25\n",
      "data3   2.50   4.75   0.00   6.00\n",
      "data4   5.25   2.25   6.00   0.00\n"
     ]
    }
   ],
   "source": [
    "from scipy.spatial.distance import squareform\n",
    "import pandas as pd\n",
    "\n",
    "# 距離行列を計算するためのリストを初期化\n",
    "distance_matrix = []\n",
    "\n",
    "# すべてのデータポイントのペアについて距離を計算\n",
    "for i in range(1, len(Data)):\n",
    "    for j in range(0, i):\n",
    "        # DP関数を使用して距離を計算し、リストに追加\n",
    "        distance_matrix.append(DP(Data[i], Data[j], penalty))\n",
    "\n",
    "# 距離行列を正方行列に変換\n",
    "distance_matrix = squareform(distance_matrix)\n",
    "\n",
    "# 距離行列をデータフレームに変換\n",
    "distance_df = pd.DataFrame(distance_matrix, index=[f\"data{i+1}\" for i in range(len(Data))], columns=[f\"data{i+1}\" for i in range(len(Data))])\n",
    "\n",
    "# 距離行列を表示\n",
    "print(\"距離行列\")\n",
    "print(distance_df)\n"
   ]
  },
  {
   "cell_type": "code",
   "execution_count": null,
   "metadata": {},
   "outputs": [
    {
     "name": "stderr",
     "output_type": "stream",
     "text": [
      "/var/folders/ms/dprh0b350pjcs8hhz19mg6pw0000gn/T/ipykernel_7725/1936786643.py:8: ClusterWarning: The symmetric non-negative hollow observation matrix looks suspiciously like an uncondensed distance matrix\n",
      "  linkage_matrix = linkage(distance_matrix, method='average')\n"
     ]
    },
    {
     "data": {
      "image/png": "[encoded data removed]",
      "text/plain": [
       "<Figure size 1000x700 with 1 Axes>"
      ]
     },
     "metadata": {},
     "output_type": "display_data"
    }
   ],
   "source": [
    "from scipy.spatial.distance import squareform\n",
    "from scipy.cluster.hierarchy import linkage, dendrogram\n",
    "import pandas as pd\n",
    "import matplotlib.pyplot as plt\n",
    "\n",
    "# 距離行列を用いてクラスタリング\n",
    "# methodの他の例：'single', 'complete', 'ward' など\n",
    "linkage_matrix = linkage(distance_matrix, method='average')\n",
    "\n",
    "# 系統樹のプロット\n",
    "plt.figure(figsize=(10, 7))\n",
    "dendrogram(linkage_matrix, labels=distance_df.index, color_threshold=0)\n",
    "plt.xlabel('Data')\n",
    "plt.ylabel('Distance')\n",
    "plt.title('Dendrogram')\n",
    "plt.savefig('dendrogram.png') # 画像に結果を保存\n",
    "plt.show()"
   ]
  }
 ],
 "metadata": {
  "kernelspec": {
   "display_name": "Python 3",
   "language": "python",
   "name": "python3"
  },
  "language_info": {
   "codemirror_mode": {
    "name": "ipython",
    "version": 3
   },
   "file_extension": ".py",
   "mimetype": "text/x-python",
   "name": "python",
   "nbconvert_exporter": "python",
   "pygments_lexer": "ipython3",
   "version": "3.11.7"
  }
 },
 "nbformat": 4,
 "nbformat_minor": 2
}
